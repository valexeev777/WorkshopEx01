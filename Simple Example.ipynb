{
 "cells": [
  {
   "cell_type": "markdown",
   "metadata": {},
   "source": [
    "# Simple illustrative example"
   ]
  },
  {
   "cell_type": "code",
   "execution_count": null,
   "metadata": {},
   "outputs": [],
   "source": [
    "import pandas as pd\n",
    "import matplotlib.pyplot as plt\n",
    "import seaborn as sns"
   ]
  },
  {
   "cell_type": "markdown",
   "metadata": {},
   "source": [
    "## A `pie chart`"
   ]
  },
  {
   "cell_type": "code",
   "execution_count": null,
   "metadata": {},
   "outputs": [],
   "source": [
    "#define data\n",
    "BarNames = ['Bucket Boys', 'Bar Totti\\'s', 'Palmers & Co',\n",
    "           'Glebe Hotel', 'Lansdowne Hotel Rooftop Bar']\n",
    "NoVisitsIn2021 = [7,5,9,4,2]\n",
    "\n",
    "#define Seaborn color palette to use\n",
    "colors = sns.color_palette('pastel')[0:5]\n",
    "\n",
    "#create pie chart\n",
    "plt.pie(NoVisitsIn2021, labels = BarNames, colors = colors, autopct='%.0f%%')\n",
    "plt.title(\"My Favourite Bars\")\n",
    "plt.show()"
   ]
  },
  {
   "cell_type": "markdown",
   "metadata": {},
   "source": [
    "## A `bar chart`"
   ]
  },
  {
   "cell_type": "code",
   "execution_count": null,
   "metadata": {},
   "outputs": [],
   "source": [
    "#define data\n",
    "AmountSpentIn2021 = [50, 115, 70, 35,\n",
    "                     25, 75, 80,\n",
    "                    20,15,60]\n",
    "PieNames = ['Apple', 'Blueberry', 'Rhubarb', 'Pecan', \n",
    "            'Key Lime', 'Cherry', 'Lemon Meringue', \n",
    "            'Coconut Cream', 'Strawberry Pie', 'Custard tart' ]\n",
    "\n",
    "\n",
    "ax = sns.barplot(y=PieNames, x=AmountSpentIn2021, ci=None, palette=\"Spectral\", orient='h')\n",
    "ax.set_title(\"My Favourite Pies\", fontsize=15)\n",
    "plt.show()\n"
   ]
  },
  {
   "cell_type": "code",
   "execution_count": null,
   "metadata": {},
   "outputs": [],
   "source": []
  }
 ],
 "metadata": {
  "kernelspec": {
   "display_name": "Python 3 (ipykernel)",
   "language": "python",
   "name": "python3"
  },
  "language_info": {
   "codemirror_mode": {
    "name": "ipython",
    "version": 3
   },
   "file_extension": ".py",
   "mimetype": "text/x-python",
   "name": "python",
   "nbconvert_exporter": "python",
   "pygments_lexer": "ipython3",
   "version": "3.9.7"
  }
 },
 "nbformat": 4,
 "nbformat_minor": 4
}
